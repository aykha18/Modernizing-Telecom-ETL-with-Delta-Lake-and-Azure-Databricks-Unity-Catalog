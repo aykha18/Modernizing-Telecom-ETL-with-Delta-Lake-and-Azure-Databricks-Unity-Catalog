{
 "cells": [
  {
   "cell_type": "code",
   "execution_count": 0,
   "metadata": {
    "application/vnd.databricks.v1+cell": {
     "cellMetadata": {
      "byteLimit": 2048000,
      "rowLimit": 10000
     },
     "inputWidgets": {},
     "nuid": "1fdc3cf8-78fd-4c75-b4fc-1a4516a4f720",
     "showTitle": false,
     "tableResultSettingsMap": {},
     "title": ""
    }
   },
   "outputs": [],
   "source": [
    "from pyspark.sql.functions import col, regexp_replace, length, hour, date_format, when\n",
    "\n",
    "df_bronze = spark.table(\"telecom_ete.bronze.cdr_raw\")\n",
    "\n",
    "df_silver = (\n",
    "    df_bronze\n",
    "    .filter(col(\"caller_number\").isNotNull() & col(\"receiver_number\").isNotNull())\n",
    "    #.filter(length(col(\"caller_number\")) >= 8)\n",
    "    #.filter(length(col(\"receiver_number\")) >= 8)\n",
    "    .filter(col(\"call_duration_sec\")>0)\n",
    "    .withColumn(\"caller_number\", regexp_replace(col(\"caller_number\"), \"[^0-9]\",\"\"))\n",
    "    .withColumn(\"receiver_number\", regexp_replace(col(\"receiver_number\"), \"[^0-9]\",\"\"))\n",
    "    # Add \"time_of_day\" based on call_start_time hour\n",
    "    .withColumn(\"hour\",hour(\"call_start_time\"))\n",
    "    .withColumn(\"time_of_day\",when (col(\"hour\").between(5,11),\"Morning\")\n",
    "                .when (col(\"hour\").between(12,17),\"Afternoon\")\n",
    "                .when (col(\"hour\").between(18,23),\"Evening\")\n",
    "                .otherwise(\"Night\"))\n",
    "    # Add weekend flag\n",
    "    .withColumn(\"is_weekend\",when(date_format(col(\"call_start_time\"),\"E\").isin(\"Sat\",\"Sun\"),\"Y\").otherwise(\"N\"))\n",
    ")\n",
    "\n",
    "df_silver.write \\\n",
    "    .format(\"delta\") \\\n",
    "    .mode(\"overwrite\") \\\n",
    "    .partitionBy(\"call_date\") \\\n",
    "    .saveAsTable(\"telecom_ete.silver.cdr_cleaned_enriched\")\n"
   ]
  },
  {
   "cell_type": "code",
   "execution_count": 0,
   "metadata": {
    "application/vnd.databricks.v1+cell": {
     "cellMetadata": {
      "byteLimit": 2048000,
      "rowLimit": 10000
     },
     "inputWidgets": {},
     "nuid": "e145fe63-9647-4967-8a5a-a13d15b2e821",
     "showTitle": false,
     "tableResultSettingsMap": {},
     "title": ""
    }
   },
   "outputs": [
    {
     "output_type": "stream",
     "name": "stdout",
     "output_type": "stream",
     "text": [
      "+----------+\n| call_date|\n+----------+\n|2025-05-03|\n|2025-05-10|\n|2025-03-09|\n|2025-02-22|\n|2025-03-11|\n|2025-02-28|\n|2025-05-19|\n|2025-04-17|\n|2025-02-19|\n|2025-05-17|\n|2025-03-28|\n|2025-04-08|\n|2025-02-25|\n|2025-04-09|\n|2025-03-25|\n|2025-04-04|\n|2025-05-08|\n|2025-04-03|\n|2025-03-27|\n|2025-02-21|\n+----------+\nonly showing top 20 rows\n"
     ]
    }
   ],
   "source": [
    "#spark.table(\"DSECCRIBE telecom_ete.silver.cdr_cleaned_enriched\").display()\n",
    "\n",
    "spark.sql(\"SHOW PARTITIONS telecom_ete.silver.cdr_cleaned_enriched\").show()"
   ]
  },
  {
   "cell_type": "code",
   "execution_count": 0,
   "metadata": {
    "application/vnd.databricks.v1+cell": {
     "cellMetadata": {
      "byteLimit": 2048000,
      "rowLimit": 10000
     },
     "inputWidgets": {},
     "nuid": "96def0f9-e77f-432d-b478-fea8c580edde",
     "showTitle": false,
     "tableResultSettingsMap": {},
     "title": ""
    }
   },
   "outputs": [
    {
     "output_type": "stream",
     "name": "stdout",
     "output_type": "stream",
     "text": [
      "+------+------------------------------------+---------------------------------------+-----------+----------------------------------------------------------------------------------------------------------------------------------------+-----------------------+-------------------+----------------+-----------------+--------+-----------+-------------------------------------+----------------+----------------+-----------------------------------------+---------------------------------------------------------------+\n|format|id                                  |name                                   |description|location                                                                                                                                |createdAt              |lastModified       |partitionColumns|clusteringColumns|numFiles|sizeInBytes|properties                           |minReaderVersion|minWriterVersion|tableFeatures                            |statistics                                                     |\n+------+------------------------------------+---------------------------------------+-----------+----------------------------------------------------------------------------------------------------------------------------------------+-----------------------+-------------------+----------------+-----------------+--------+-----------+-------------------------------------+----------------+----------------+-----------------------------------------+---------------------------------------------------------------+\n|delta |d378a842-1fc1-4b4e-a72c-c21f60042c35|telecom_ete.silver.cdr_cleaned_enriched|NULL       |abfss://metastore@covid19storagedb.dfs.core.windows.net/7e1571cd-80b8-4236-84d3-1e19a339214a/tables/04e6ae79-1252-4488-9a1a-1ac2924816d1|2025-05-19 16:25:03.711|2025-05-20 01:16:59|[call_date]     |[]               |91      |64372409   |{delta.enableDeletionVectors -> true}|3               |7               |[appendOnly, deletionVectors, invariants]|{numRowsDeletedByDeletionVectors -> 0, numDeletionVectors -> 0}|\n+------+------------------------------------+---------------------------------------+-----------+----------------------------------------------------------------------------------------------------------------------------------------+-----------------------+-------------------+----------------+-----------------+--------+-----------+-------------------------------------+----------------+----------------+-----------------------------------------+---------------------------------------------------------------+\n\n"
     ]
    }
   ],
   "source": [
    "spark.sql(\"DESCRIBE DETAIL telecom_ete.silver.cdr_cleaned_enriched\").show(truncate=False)\n"
   ]
  },
  {
   "cell_type": "code",
   "execution_count": 0,
   "metadata": {
    "application/vnd.databricks.v1+cell": {
     "cellMetadata": {},
     "inputWidgets": {},
     "nuid": "86a27809-b755-4c02-b5e0-e96fbb120069",
     "showTitle": false,
     "tableResultSettingsMap": {},
     "title": ""
    }
   },
   "outputs": [],
   "source": []
  }
 ],
 "metadata": {
  "application/vnd.databricks.v1+notebook": {
   "computePreferences": null,
   "dashboards": [],
   "environmentMetadata": {
    "base_environment": "",
    "environment_version": "2"
   },
   "inputWidgetPreferences": null,
   "language": "python",
   "notebookMetadata": {
    "pythonIndentUnit": 4
   },
   "notebookName": "Transform.Clean and save in SilverLayer",
   "widgets": {}
  },
  "language_info": {
   "name": "python"
  }
 },
 "nbformat": 4,
 "nbformat_minor": 0
}