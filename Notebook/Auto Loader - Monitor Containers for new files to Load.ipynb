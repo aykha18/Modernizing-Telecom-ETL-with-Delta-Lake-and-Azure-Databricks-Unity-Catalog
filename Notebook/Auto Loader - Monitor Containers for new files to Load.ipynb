{
 "cells": [
  {
   "cell_type": "code",
   "execution_count": 0,
   "metadata": {
    "application/vnd.databricks.v1+cell": {
     "cellMetadata": {
      "byteLimit": 2048000,
      "rowLimit": 10000
     },
     "inputWidgets": {},
     "nuid": "5cc54771-7eaf-4bb8-9b89-7d72bbeff51c",
     "showTitle": false,
     "tableResultSettingsMap": {},
     "title": ""
    }
   },
   "outputs": [],
   "source": [
    "from pyspark.sql.functions import *\n",
    "from pyspark.sql.types import *\n",
    "\n",
    "cdr_schema = StructType([\n",
    "    StructField(\"call_id\", StringType(), True),\n",
    "    StructField(\"caller_number\", StringType(), True),\n",
    "    StructField(\"receiver_number\", StringType(), True),\n",
    "    StructField(\"call_start_time\", TimestampType(), True),\n",
    "    StructField(\"call_end_time\", TimestampType(), True),\n",
    "    StructField(\"call_duration_sec\", IntegerType(), True),\n",
    "    StructField(\"call_type\", StringType(), True),\n",
    "    StructField(\"cell_tower_id\", StringType(), True),\n",
    "    StructField(\"location\", StringType(), True),\n",
    "    StructField(\"call_status\", StringType(), True),\n",
    "    StructField(\"data_usage_mb\", DoubleType(), True),\n",
    "    StructField(\"call_date\", DateType(), True),\n",
    "    StructField(\"hour\", IntegerType(), True),\n",
    "])\n",
    "\n",
    "# Define source path\n",
    "raw_path = \"abfss://hourlycdr@covid19storagedb.dfs.core.windows.net/cdr_data\"\n",
    "\n",
    "# Define checkpoint location\n",
    "checkpoint_path = \"/mnt/checkpoints/bronze_cdr\"\n",
    "\n",
    "# Read streaming data using Auto Loader\n",
    "df_stream = (\n",
    "    spark.readStream\n",
    "        .format(\"cloudFiles\")\n",
    "        .option(\"cloudFiles.format\", \"csv\")\n",
    "        .schema(cdr_schema)\n",
    "        .option(\"cloudFiles.schemaLocation\", checkpoint_path)\n",
    "        .load(raw_path)\n",
    ")\n",
    "\n",
    "df_stream = df_stream.writeStream \\\n",
    "    .format(\"delta\") \\\n",
    "    .option(\"checkpointLocation\", checkpoint_path) \\\n",
    "    .option(\"mergeSchema\",True) \\\n",
    "    .trigger(once=True) \\\n",
    "    .table(\"telecom_ete.bronze.cdr_raw\")\n"
   ]
  },
  {
   "cell_type": "code",
   "execution_count": 0,
   "metadata": {
    "application/vnd.databricks.v1+cell": {
     "cellMetadata": {
      "byteLimit": 2048000,
      "rowLimit": 10000
     },
     "inputWidgets": {},
     "nuid": "fed87fe7-bf05-4642-975b-ee0a7dfe2ee5",
     "showTitle": false,
     "tableResultSettingsMap": {},
     "title": ""
    }
   },
   "outputs": [
    {
     "output_type": "execute_result",
     "data": {
      "text/plain": [
       "30003"
      ]
     },
     "execution_count": 98,
     "metadata": {},
     "output_type": "execute_result"
    }
   ],
   "source": [
    "spark.table(\"telecom_ete.bronze.cdr_raw\").count()"
   ]
  }
 ],
 "metadata": {
  "application/vnd.databricks.v1+notebook": {
   "computePreferences": null,
   "dashboards": [],
   "environmentMetadata": {
    "base_environment": "",
    "environment_version": "2"
   },
   "inputWidgetPreferences": null,
   "language": "python",
   "notebookMetadata": {
    "pythonIndentUnit": 4
   },
   "notebookName": "Auto Loader - Monitor Containers for new files to Load",
   "widgets": {}
  },
  "language_info": {
   "name": "python"
  }
 },
 "nbformat": 4,
 "nbformat_minor": 0
}